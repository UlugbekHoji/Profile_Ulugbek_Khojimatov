{
 "cells": [
  {
   "cell_type": "code",
   "execution_count": 56,
   "id": "eb9e3e09-b538-4aa7-8a24-9004b607a7fb",
   "metadata": {},
   "outputs": [
    {
     "name": "stdout",
     "output_type": "stream",
     "text": [
      "               Название            Цена               Рассрочка\n",
      "0   Название не указано   1 899 000 сум    231 100 сум x 12 мес\n",
      "1   Название не указано   3 159 000 сум    384 400 сум x 12 мес\n",
      "2   Название не указано   3 269 000 сум    397 800 сум x 12 мес\n",
      "3   Название не указано   2 319 000 сум    282 200 сум x 12 мес\n",
      "4   Название не указано   1 849 000 сум    225 000 сум x 12 мес\n",
      "5   Название не указано   2 819 000 сум    343 000 сум x 12 мес\n",
      "6   Название не указано   2 359 000 сум    287 100 сум x 12 мес\n",
      "7   Название не указано   4 339 000 сум    528 000 сум x 12 мес\n",
      "8   Название не указано   2 319 000 сум    282 200 сум x 12 мес\n",
      "9   Название не указано   5 239 000 сум    637 500 сум x 12 мес\n",
      "10  Название не указано   3 879 000 сум    472 000 сум x 12 мес\n",
      "11  Название не указано   2 379 000 сум    289 500 сум x 12 мес\n",
      "12  Название не указано   5 249 000 сум    638 700 сум x 12 мес\n",
      "13  Название не указано   1 965 000 сум    239 100 сум x 12 мес\n",
      "14  Название не указано   3 959 000 сум    481 700 сум x 12 мес\n",
      "15  Название не указано   5 099 000 сум    620 400 сум x 12 мес\n",
      "16  Название не указано   6 249 000 сум    760 300 сум x 12 мес\n",
      "17  Название не указано   1 989 000 сум    242 000 сум x 12 мес\n",
      "18  Название не указано  13 909 000 сум  1 692 300 сум x 12 мес\n",
      "19  Название не указано   4 309 000 сум    524 300 сум x 12 мес\n",
      "20  Название не указано   1 749 000 сум    212 800 сум x 12 мес\n",
      "21  Название не указано   2 299 000 сум    279 800 сум x 12 мес\n",
      "22  Название не указано   1 699 000 сум    206 800 сум x 12 мес\n",
      "23  Название не указано   1 699 000 сум    206 800 сум x 12 мес\n"
     ]
    }
   ],
   "source": [
    "import pandas as pd\n",
    "import requests\n",
    "from bs4 import BeautifulSoup\n",
    "\n",
    "url = \"https://asaxiy.uz/product/telefony-i-gadzhety/telefony\"\n",
    "response = requests.get(url)\n",
    "html_content = response.text\n",
    "soup = BeautifulSoup(html_content, \"html.parser\")\n",
    "\n",
    "product_divs = soup.find_all(\"div\", class_=\"product__item\")\n",
    "\n",
    "data = []\n",
    "\n",
    "for product_div in product_divs:\n",
    "    name_span = soup.find(\"span\", class_=\"product__item__info-title\")\n",
    "    product_name = name_span.text.strip() if name_span else \"Название не указано\"\n",
    "    price_container = product_div.find(\"span\", class_=\"product__item-price\")\n",
    "    price = price_container.text.strip() if price_container else \"Цена не указана\"\n",
    "    installment_container = product_div.find(\"div\", class_=\"installment__price\")\n",
    "    installment = installment_container.text.strip() if installment_container else \"Рассрочка не доступна\"\n",
    "    data.append([name, price, installment])\n",
    "\n",
    "df = pd.DataFrame(data, columns=[\"Название\", \"Цена\", \"Рассрочка\"])\n",
    "print(df)\n"
   ]
  },
  {
   "cell_type": "markdown",
   "id": "8888b738-3dab-4263-afdd-a7cd57d38f5d",
   "metadata": {},
   "source": [
    "# Asaxiy маркет телефон нархлари"
   ]
  },
  {
   "cell_type": "code",
   "execution_count": 88,
   "id": "53c2798d-0bc0-4e17-b8d3-99111db1feec",
   "metadata": {},
   "outputs": [],
   "source": [
    "import pandas as pd\n",
    "import requests\n",
    "from bs4 import BeautifulSoup\n",
    "\n",
    "# Функция для извлечения данных с одной страницы\n",
    "def extract_data_from_page(url):\n",
    "    response = requests.get(url)\n",
    "    html_content = response.text\n",
    "    soup = BeautifulSoup(html_content, \"html.parser\")\n",
    "    product_divs = soup.find_all(\"div\", class_=\"product__item\")\n",
    "    data = []\n",
    "    for product_div in product_divs:\n",
    "        name_span = product_div.find(\"span\", class_=\"product__item__info-title\")\n",
    "        name = name_span.text.strip() if name_span else \"Название не указано\"\n",
    "        price_container = product_div.find(\"span\", class_=\"product__item-price\")\n",
    "        price = price_container.text.strip() if price_container else \"Цена не указана\"\n",
    "        installment_container = product_div.find(\"div\", class_=\"installment__price\")\n",
    "        installment = installment_container.text.strip() if installment_container else \"Рассрочка не доступна\"\n",
    "        data.append([name, price, installment])\n",
    "    return data\n",
    "\n",
    "# Ссылки на страницы\n",
    "base_url = \"https://asaxiy.uz/product/telefony-i-gadzhety/page=\"\n",
    "urls = [base_url + str(page) for page in range(1, 200)]\n",
    "\n",
    "# Сбор данных с каждой страницы\n",
    "all_data = []\n",
    "for url in urls:\n",
    "    page_data = extract_data_from_page(url)\n",
    "    all_data.extend(page_data)\n",
    "\n",
    "# Создание DataFrame\n",
    "df = pd.DataFrame(all_data, columns=[\"Название\", \"Цена\", \"Рассрочка\"])\n",
    "\n",
    "\n",
    "\n",
    "# Сохранение в Excel\n",
    "df.to_excel(\"products_data.xlsx\", index=False)\n"
   ]
  },
  {
   "cell_type": "markdown",
   "id": "5b2bc311-4a97-48be-9b7c-4a18d9db1551",
   "metadata": {},
   "source": [
    "# Олча маркет телефон нархлари"
   ]
  },
  {
   "cell_type": "code",
   "execution_count": 87,
   "id": "ee8bc5f3-720d-497d-abc1-746c9ce92cd0",
   "metadata": {},
   "outputs": [
    {
     "name": "stdout",
     "output_type": "stream",
     "text": [
      "              Название             Цена              Рассрочка\n",
      "0  Название не указано  Цена не указана  Рассрочка не доступна\n",
      "1  Название не указано  Цена не указана  Рассрочка не доступна\n",
      "2  Название не указано  Цена не указана  Рассрочка не доступна\n",
      "3  Название не указано  Цена не указана  Рассрочка не доступна\n",
      "4  Название не указано  Цена не указана  Рассрочка не доступна\n"
     ]
    }
   ],
   "source": [
    "import pandas as pd\n",
    "import requests\n",
    "from bs4 import BeautifulSoup\n",
    "\n",
    "# Функция для извлечения данных с одной страницы\n",
    "def extract_data_from_page(url):\n",
    "    response = requests.get(url)\n",
    "    html_content = response.text\n",
    "    soup = BeautifulSoup(html_content, \"html.parser\")\n",
    "    product_divs = soup.find_all(\"div\", class_=\"container\")\n",
    "    data = []\n",
    "    for product_div in product_divs:\n",
    "        name_span = product_div.find(\"div\", class_=\"product-card__brand-name\")\n",
    "        name = name_span.text.strip() if name_span else \"Название не указано\"\n",
    "        price_container = product_div.find(\"div\", class_=\"product__item-price product-main-price\")\n",
    "        price = price_container.text.strip() if price_container else \"Цена не указана\"\n",
    "        installment_container = product_div.find(\"div\", class_=\"product__item-old\")\n",
    "        installment = installment_container.text.strip() if installment_container else \"Рассрочка не доступна\"\n",
    "        data.append([name, price, installment])\n",
    "    return data\n",
    "\n",
    "# Ссылки на страницы\n",
    "url = \"https://asaxiy.uz/product/telefony-i-gadzhety\"\n",
    "urls = [url]\n",
    "\n",
    "# Сбор данных с каждой страницы\n",
    "all_data = []\n",
    "for url in urls:\n",
    "    page_data = extract_data_from_page(url)\n",
    "    all_data.extend(page_data)\n",
    "\n",
    "# Создание DataFrame\n",
    "df = pd.DataFrame(all_data, columns=[\"Название\", \"Цена\", \"Рассрочка\"])\n",
    "\n",
    "\n",
    "print(df.head())\n",
    "\n",
    "# Сохранение в Excel\n",
    "# df.to_excel(\"products_data_olcha.xlsx\", index=False)\n"
   ]
  },
  {
   "cell_type": "code",
   "execution_count": null,
   "id": "e3472fd1-4a0c-4749-9e8b-7054d4ca1bc6",
   "metadata": {},
   "outputs": [],
   "source": [
    "<span class=\"product__item-price product-main-price-id-54635\">859 000 сум</span>"
   ]
  },
  {
   "cell_type": "code",
   "execution_count": null,
   "id": "fd8e985e-4bef-4ab7-b972-b6eca832fffa",
   "metadata": {},
   "outputs": [],
   "source": [
    "<span class=\"product__item-old--price\">959 000 сум</span>"
   ]
  }
 ],
 "metadata": {
  "kernelspec": {
   "display_name": "Python 3 (ipykernel)",
   "language": "python",
   "name": "python3"
  },
  "language_info": {
   "codemirror_mode": {
    "name": "ipython",
    "version": 3
   },
   "file_extension": ".py",
   "mimetype": "text/x-python",
   "name": "python",
   "nbconvert_exporter": "python",
   "pygments_lexer": "ipython3",
   "version": "3.11.7"
  }
 },
 "nbformat": 4,
 "nbformat_minor": 5
}
