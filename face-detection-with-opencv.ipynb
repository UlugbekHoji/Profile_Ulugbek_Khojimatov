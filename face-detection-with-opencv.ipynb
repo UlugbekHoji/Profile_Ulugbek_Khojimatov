{
 "cells": [
  {
   "cell_type": "markdown",
   "metadata": {
    "_uuid": "903ae7ba1a94fbcd11c00accb391d8f27f59971f"
   },
   "source": [
    "<a class=\"anchor\" id=\"0.\"></a>**Content**\n",
    "\n",
    "1. [Summary](#1.)\n",
    "1. [Detecting Faces in National Football Team Image](#1e1.)\n",
    "1. [FetchLFW class](#2.)\n",
    "1. [Fetching LFW images](#3.)\n",
    "1. [Helper Funciton:get_photo_gallery()](#4.)\n",
    "1. [Showing Images as Photo Gallery](#5.)\n",
    "1. [Detecting Faces in LFW Dataset](#7.)\n",
    "1. [Showing Detected Faces as Photo Gallery](#8.)\n",
    "\n",
    "Quick Links: [1](#1.)  |  [2](#1e1.)  |  [3](#2.)  |  [4](#3.)  |  [5](#4.)  |   [6](#5.)  |  [7](#7.)  |  [8](#8.)"
   ]
  },
  {
   "cell_type": "code",
   "execution_count": 1,
   "metadata": {
    "_cell_guid": "b1076dfc-b9ad-4769-8c92-a6c4dae69d19",
    "_kg_hide-input": true,
    "_uuid": "8f2839f25d086af736a60e9eeb907d3b93b6e0e5"
   },
   "outputs": [
    {
     "ename": "ModuleNotFoundError",
     "evalue": "No module named 'cv2'",
     "output_type": "error",
     "traceback": [
      "\u001b[1;31m---------------------------------------------------------------------------\u001b[0m",
      "\u001b[1;31mModuleNotFoundError\u001b[0m                       Traceback (most recent call last)",
      "Cell \u001b[1;32mIn[1], line 8\u001b[0m\n\u001b[0;32m      5\u001b[0m \u001b[38;5;28;01mimport\u001b[39;00m \u001b[38;5;21;01mmatplotlib\u001b[39;00m\u001b[38;5;21;01m.\u001b[39;00m\u001b[38;5;21;01mpyplot\u001b[39;00m \u001b[38;5;28;01mas\u001b[39;00m \u001b[38;5;21;01mplt\u001b[39;00m\n\u001b[0;32m      7\u001b[0m \u001b[38;5;66;03m#image processing\u001b[39;00m\n\u001b[1;32m----> 8\u001b[0m \u001b[38;5;28;01mimport\u001b[39;00m \u001b[38;5;21;01mcv2\u001b[39;00m\n\u001b[0;32m     10\u001b[0m \u001b[38;5;66;03m#extracting zippped file\u001b[39;00m\n\u001b[0;32m     11\u001b[0m \u001b[38;5;28;01mimport\u001b[39;00m \u001b[38;5;21;01mtarfile\u001b[39;00m\n",
      "\u001b[1;31mModuleNotFoundError\u001b[0m: No module named 'cv2'"
     ]
    }
   ],
   "source": [
    "\n",
    "import numpy as np # linear algebra\n",
    "import pandas as pd # data processing, CSV file I/O (e.g. pd.read_csv)\n",
    "\n",
    "#Visiulazation\n",
    "import matplotlib.pyplot as plt\n",
    "\n",
    "#image processing\n",
    "import cv2\n",
    "\n",
    "#extracting zippped file\n",
    "import tarfile\n",
    "\n",
    "#systems\n",
    "import os\n",
    "print(os.listdir(\"../input/haarcascade-frontal-faces\"))\n",
    "print(os.listdir(\"../input/lfwpeople\"))"
   ]
  },
  {
   "cell_type": "code",
   "execution_count": 2,
   "metadata": {},
   "outputs": [
    {
     "name": "stdout",
     "output_type": "stream",
     "text": [
      "Defaulting to user installation because normal site-packages is not writeable\n"
     ]
    },
    {
     "name": "stderr",
     "output_type": "stream",
     "text": [
      "ERROR: Could not find a version that satisfies the requirement cv2 (from versions: none)\n",
      "ERROR: No matching distribution found for cv2\n"
     ]
    }
   ],
   "source": [
    "! pip install cv2"
   ]
  },
  {
   "cell_type": "markdown",
   "metadata": {
    "_uuid": "cd209cd4e3490c93392853190b9693fcc4f55f0c"
   },
   "source": [
    " [Go to Content Menu](#0.)    |             Quick Links: [1](#1.)  |  [2](#1e1.)  |  [3](#2.)  |  [4](#3.)  |  [5](#4.)  |   [6](#5.)  |  [7](#7.)  |  [8](#8.)\n",
    "\n",
    "<a class=\"anchor\" id=\"1.\"></a>\n",
    "# **1. Summary**\n",
    "\n",
    "In this study, face detection was performed from the images in the LFW data set. \n",
    "\n",
    "Before face detection in LFW images, multiple face detection performed in single images. \n",
    "\n",
    "Desired number of images are taken from the zip file in the LFW data set. Then the face detection was made from these images."
   ]
  },
  {
   "cell_type": "markdown",
   "metadata": {
    "_uuid": "d4324c14a5dd012695e840905321d40b5d7b2fa4"
   },
   "source": [
    " [Go to Content Menu](#0.)    |             Quick Links: [1](#1.)  |  [2](#1e1.)  |  [3](#2.)  |  [4](#3.)  |  [5](#4.)  |   [6](#5.)  |  [7](#7.)  |  [8](#8.)\n",
    " \n",
    "<a class=\"anchor\" id=\"6.\"></a>\n",
    "# **FaceDetector class** "
   ]
  },
  {
   "cell_type": "code",
   "execution_count": null,
   "metadata": {
    "_kg_hide-input": true,
    "_uuid": "42e758563b0708546ddf36d7449607549e528170"
   },
   "outputs": [],
   "source": [
    "class FaceDetector():\n",
    "\n",
    "    def __init__(self,faceCascadePath):\n",
    "        self.faceCascade=cv2.CascadeClassifier(faceCascadePath)\n",
    "\n",
    "\n",
    "    def detect(self, image, scaleFactor=1.1,\n",
    "               minNeighbors=5,\n",
    "               minSize=(30,30)):\n",
    "        \n",
    "        #function return rectangle coordinates of faces for given image\n",
    "        rects=self.faceCascade.detectMultiScale(image,\n",
    "                                                scaleFactor=scaleFactor,\n",
    "                                                minNeighbors=minNeighbors,\n",
    "                                                minSize=minSize)\n",
    "        return rects"
   ]
  },
  {
   "cell_type": "code",
   "execution_count": null,
   "metadata": {
    "_uuid": "40cfb3765a0201c9dde634c79d492275320d27f0"
   },
   "outputs": [],
   "source": [
    "#Frontal face of haar cascade loaded\n",
    "frontal_cascade_path=\"../input/haarcascade-frontal-faces/haarcascade_frontalface_default.xml\"\n",
    "\n",
    "#Detector object created\n",
    "fd=FaceDetector(frontal_cascade_path)"
   ]
  },
  {
   "cell_type": "code",
   "execution_count": null,
   "metadata": {
    "_uuid": "12983332defabe2f3e6ba4b312fb717649e4472b"
   },
   "outputs": [],
   "source": [
    "#An image contains faces, loaded\n",
    "national_team_org=cv2.imread(\"../input/haarcascade-frontal-faces/millitakim-isvecmaci.jpg\")"
   ]
  },
  {
   "cell_type": "markdown",
   "metadata": {
    "_uuid": "8da74338a0cb294daeb3c116143b95b3cb9b27a3"
   },
   "source": [
    " [Go to Content Menu](#0.)    |             Quick Links: [1](#1.)  |  [2](#1e1.)  |  [3](#2.)  |  [4](#3.)  |  [5](#4.)  |   [6](#5.)  |  [7](#7.)  |  [8](#8.)\n",
    " \n",
    "<a class=\"anchor\" id=\"1e1.\"></a>\n",
    "# **2. Detecting Faces in National Football Team Image** "
   ]
  },
  {
   "cell_type": "code",
   "execution_count": null,
   "metadata": {
    "_uuid": "b395e885e4c4c963557d11f6ba67e9612e189225"
   },
   "outputs": [],
   "source": [
    "def get_national_team():\n",
    "    return np.copy(national_team_org)\n",
    "\n",
    "def show_image(image):\n",
    "    plt.figure(figsize=(18,15))\n",
    "    #Before showing image, bgr color order transformed to rgb order\n",
    "    plt.imshow(cv2.cvtColor(image, cv2.COLOR_BGR2RGB))\n",
    "    plt.xticks([])\n",
    "    plt.yticks([])\n",
    "    plt.show()"
   ]
  },
  {
   "cell_type": "code",
   "execution_count": null,
   "metadata": {
    "_uuid": "8fd0dcafc3951e089ca1c1b41e941ed0f8e1aaba"
   },
   "outputs": [],
   "source": [
    "show_image(get_national_team())"
   ]
  },
  {
   "cell_type": "code",
   "execution_count": null,
   "metadata": {
    "_uuid": "951c47fd6ea8607f6f8802b6c74dd2990d767315"
   },
   "outputs": [],
   "source": [
    "def detect_face(image, scaleFactor, minNeighbors, minSize):\n",
    "    # face will detected in gray image\n",
    "    image_gray=cv2.cvtColor(image, cv2.COLOR_BGR2GRAY)\n",
    "\n",
    "    faces=fd.detect(image_gray,\n",
    "                   scaleFactor=scaleFactor,\n",
    "                   minNeighbors=minNeighbors,\n",
    "                   minSize=minSize)\n",
    "\n",
    "    for x, y, w, h in faces:\n",
    "        #detected faces shown in color image\n",
    "        cv2.rectangle(image,(x,y),(x+w, y+h),(127, 255,0),3)\n",
    "\n",
    "    show_image(image)\n",
    "    "
   ]
  },
  {
   "cell_type": "code",
   "execution_count": null,
   "metadata": {
    "_uuid": "48b54b24828baed5bc616e0f59d75dd13075cea4"
   },
   "outputs": [],
   "source": [
    "national_team=get_national_team()\n",
    "\n",
    "detect_face(image=national_team, \n",
    "            scaleFactor=1.9, \n",
    "            minNeighbors=3, \n",
    "            minSize=(30,30))"
   ]
  },
  {
   "cell_type": "code",
   "execution_count": null,
   "metadata": {
    "_uuid": "4a215db099d4f5be04b9c18c265c226a3fdfb3b3"
   },
   "outputs": [],
   "source": [
    "national_team=get_national_team()\n",
    "#Let's play around function parameters\n",
    "detect_face(image=national_team, \n",
    "            scaleFactor=1.3, \n",
    "            minNeighbors=3, \n",
    "            minSize=(30,30))"
   ]
  },
  {
   "cell_type": "markdown",
   "metadata": {
    "_uuid": "758d412faf8b0fd9b9901649bc5dd24633bcb84e"
   },
   "source": [
    " [Go to Content Menu](#0.)    |             Quick Links: [1](#1.)  |  [2](#1e1.)  |  [3](#2.)  |  [4](#3.)  |  [5](#4.)  |   [6](#5.)  |  [7](#7.)  |  [8](#8.)\n",
    " \n",
    " \n",
    "<a class=\"anchor\" id=\"2.\"></a>\n",
    "# **3. FetchLFW class**"
   ]
  },
  {
   "cell_type": "code",
   "execution_count": null,
   "metadata": {
    "_uuid": "973c9639634c14be7e3e15d4145c5ce9f225bd95"
   },
   "outputs": [],
   "source": [
    "class FetchLFW:\n",
    "    def __init__(self, path):\n",
    "        self.path=path\n",
    "        \n",
    "    def _initialize(self,dim):\n",
    "        self.dim_of_photo_gallery=dim\n",
    "        self.number_of_images=self.dim_of_photo_gallery*self.dim_of_photo_gallery\n",
    "        \n",
    "        total_number_of_image=13233\n",
    "        self.random_face_indexes=np.arange(total_number_of_image)\n",
    "        np.random.shuffle(self.random_face_indexes)\n",
    "        self.n_random_face_indexes=self.random_face_indexes[:self.number_of_images]\n",
    "        \n",
    "    def get_lfw_images(self,dim=5):\n",
    "        \n",
    "        self._initialize(dim)\n",
    "        \n",
    "        \n",
    "        self.lfw_images=self._get_images()\n",
    "        \n",
    "        return self.lfw_images\n",
    "        \n",
    "    \n",
    "    def _get_images(self):\n",
    "        image_list=[]\n",
    "        tar = tarfile.open(path, \"r:gz\")\n",
    "        counter=0\n",
    "        for tarinfo in tar:\n",
    "            \n",
    "            tar.extract(tarinfo.name)\n",
    "            if tarinfo.name[-4:]==\".jpg\":\n",
    "                if counter in self.n_random_face_indexes:\n",
    "                    image=cv2.imread(tarinfo.name, cv2.IMREAD_COLOR)\n",
    "                    image=cv2.resize(image,None,fx=0.4, fy=0.4, interpolation=cv2.INTER_AREA)\n",
    "                    image_list.append(np.array(image))\n",
    "                counter+=1\n",
    "            if tarinfo.isdir():\n",
    "                pass\n",
    "            else:\n",
    "                os.remove(tarinfo.name)\n",
    "        tar.close()\n",
    "        \n",
    "        return np.array(image_list)\n",
    "        "
   ]
  },
  {
   "cell_type": "markdown",
   "metadata": {
    "_uuid": "41289ad825d1e49086e917885753e7f0b28ce48d"
   },
   "source": [
    " [Go to Content Menu](#0.)    |             Quick Links: [1](#1.)  |  [2](#1e1.)  |  [3](#2.)  |  [4](#3.)  |  [5](#4.)  |   [6](#5.)  |  [7](#7.)  |  [8](#8.)\n",
    " \n",
    "<a class=\"anchor\" id=\"3.\"></a>\n",
    "# **4. Fetching LFW Images** "
   ]
  },
  {
   "cell_type": "code",
   "execution_count": null,
   "metadata": {
    "_uuid": "e2b3452fa92587716b7fedaed132208246fa2857"
   },
   "outputs": [],
   "source": [
    "path=\"../input/lfwpeople/lfwfunneled.tgz\"\n",
    "fetchLFW=FetchLFW(path)\n",
    "dimension=10\n",
    "images=fetchLFW.get_lfw_images(dim=dimension)\n",
    "print(\"LFW images have been fetched\")"
   ]
  },
  {
   "cell_type": "code",
   "execution_count": null,
   "metadata": {
    "_uuid": "06c5baa09c2a1e17ac3bf87568c798389b0b879b"
   },
   "outputs": [],
   "source": [
    "print(images.shape)"
   ]
  },
  {
   "cell_type": "markdown",
   "metadata": {
    "_uuid": "c084f2ea9cdffe811d991d0c277641b3a37e628d"
   },
   "source": [
    " [Go to Content Menu](#0.)    |             Quick Links: [1](#1.)  |  [2](#1e1.)  |  [3](#2.)  |  [4](#3.)  |  [5](#4.)  |   [6](#5.)  |  [7](#7.)  |  [8](#8.)\n",
    " \n",
    "<a class=\"anchor\" id=\"4.\"></a>\n",
    "# **5. Helper Function: get_photo_gallery()** "
   ]
  },
  {
   "cell_type": "code",
   "execution_count": null,
   "metadata": {
    "_uuid": "58032cd054bdfcb96cd4da4b773e94ec3f38edc0"
   },
   "outputs": [],
   "source": [
    "def get_photo_gallery():\n",
    "    counter=0\n",
    "    himages=[]\n",
    "    vimages=[]\n",
    "    for i in range(dimension):\n",
    "        for j in range(dimension):\n",
    "            \n",
    "            himages.append(images[counter])\n",
    "            counter+=1\n",
    "\n",
    "        himage=np.hstack((himages))\n",
    "        vimages.append(himage)\n",
    "        himages=[]\n",
    "    image_matrix=np.vstack((vimages))\n",
    "    return image_matrix"
   ]
  },
  {
   "cell_type": "markdown",
   "metadata": {
    "_uuid": "ed269121bbcff1f943534c7b9ee2caad1597e723"
   },
   "source": [
    " [Go to Content Menu](#0.)    |             Quick Links: [1](#1.)  |  [2](#1e1.)  |  [3](#2.)  |  [4](#3.)  |  [5](#4.)  |   [6](#5.)  |  [7](#7.)  |  [8](#8.)\n",
    " \n",
    "<a class=\"anchor\" id=\"5.\"></a>\n",
    "# **6. Showing Images as Photo Gallery**\n"
   ]
  },
  {
   "cell_type": "code",
   "execution_count": null,
   "metadata": {
    "_uuid": "f3b717fbd182c45928ba8accd07441c6e58a6a41"
   },
   "outputs": [],
   "source": [
    "photo_gallery=get_photo_gallery()\n",
    "print(\"photo_gallery:{}\".format(photo_gallery.shape))\n",
    "show_image(photo_gallery)"
   ]
  },
  {
   "cell_type": "markdown",
   "metadata": {
    "_uuid": "5710249c33450ce212f83228874b794ead9c78ea"
   },
   "source": [
    " [Go to Content Menu](#0.)    |             Quick Links: [1](#1.)  |  [2](#1e1.)  |  [3](#2.)  |  [4](#3.)  |  [5](#4.)  |   [6](#5.)  |  [7](#7.)  |  [8](#8.)\n",
    " \n",
    "<a class=\"anchor\" id=\"7.\"></a>\n",
    "# **7. Detecting Faces in LFW Dataset** "
   ]
  },
  {
   "cell_type": "code",
   "execution_count": null,
   "metadata": {
    "_uuid": "9024aa89312737526c18f5199c26ff576510a3d1"
   },
   "outputs": [],
   "source": [
    "frontal_cascade_path=\"../input/haarcascade-frontal-faces/haarcascade_frontalface_default.xml\"\n",
    "fd=FaceDetector(frontal_cascade_path)\n",
    "face_counter=0\n",
    "for image_org in images:\n",
    "    \n",
    "    image_gray=cv2.cvtColor(image_org,cv2.COLOR_BGR2GRAY)\n",
    "    faceRect=fd.detect(image_gray,\n",
    "                       scaleFactor=1.1,\n",
    "                       minNeighbors=5,\n",
    "                       minSize=(30,30))\n",
    "    #print(\"I found {} faces\".format(len(faceRect)))\n",
    "    first_detection=False\n",
    "    for (x,y,w,h) in faceRect:\n",
    "        if first_detection==False:\n",
    "            face_counter+=1\n",
    "            cv2.rectangle(image_org,(x,y),(x+w,y+h),(127,255,0),2)\n",
    "            first_detection=True\n",
    "        else:\n",
    "            print(\"Second detection ignored in a image\")\n",
    "\n",
    "print(\"{} images have been scaned\".format(dimension*dimension))\n",
    "print(\"{} faces have been detected\".format(face_counter))"
   ]
  },
  {
   "cell_type": "markdown",
   "metadata": {
    "_uuid": "9e5918140f085cd4637c0341e9e2f9a48bdca742"
   },
   "source": [
    " [Go to Content Menu](#0.)    |             Quick Links: [1](#1.)  |  [2](#1e1.)  |  [3](#2.)  |  [4](#3.)  |  [5](#4.)  |   [6](#5.)  |  [7](#7.)  |  [8](#8.)\n",
    " \n",
    "<a class=\"anchor\" id=\"8.\"></a>\n",
    "# **8. Showing Detected Faces as Photo Gallery**"
   ]
  },
  {
   "cell_type": "code",
   "execution_count": null,
   "metadata": {
    "_uuid": "33bed429652152e3bf0864fa505743420fdac5e7"
   },
   "outputs": [],
   "source": [
    "photo_gallery=get_photo_gallery()\n",
    "show_image(photo_gallery)"
   ]
  }
 ],
 "metadata": {
  "kaggle": {
   "accelerator": "none",
   "dataSources": [
    {
     "datasetId": 53400,
     "sourceId": 111222,
     "sourceType": "datasetVersion"
    },
    {
     "datasetId": 19136,
     "sourceId": 796646,
     "sourceType": "datasetVersion"
    }
   ],
   "dockerImageVersionId": 29661,
   "isGpuEnabled": false,
   "isInternetEnabled": false,
   "language": "python",
   "sourceType": "notebook"
  },
  "kernelspec": {
   "display_name": "Python 3 (ipykernel)",
   "language": "python",
   "name": "python3"
  },
  "language_info": {
   "codemirror_mode": {
    "name": "ipython",
    "version": 3
   },
   "file_extension": ".py",
   "mimetype": "text/x-python",
   "name": "python",
   "nbconvert_exporter": "python",
   "pygments_lexer": "ipython3",
   "version": "3.11.7"
  }
 },
 "nbformat": 4,
 "nbformat_minor": 4
}
