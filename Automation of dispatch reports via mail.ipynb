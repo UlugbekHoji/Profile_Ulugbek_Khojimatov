{
 "cells": [
  {
   "cell_type": "markdown",
   "id": "ea37e2f5-bf48-48ba-aff6-2b3645bb0003",
   "metadata": {},
   "source": [
    "# Автоматизация отпарвка отчетов через почту "
   ]
  },
  {
   "cell_type": "code",
   "execution_count": null,
   "id": "a1eda4bd-eb1c-41dd-9a2b-7ee88dc52c81",
   "metadata": {},
   "outputs": [],
   "source": [
    "import smtplib\n",
    "from email.mime.multipart import MIMEMultipart\n",
    "from email.mime.text import MIMEText\n",
    "import datetime\n",
    "\n",
    "def send_email(to_email, subject, body):\n",
    "    # Настройки SMTP сервера\n",
    "    smtp_server = 'smtp.example.com'\n",
    "    smtp_port = 587\n",
    "    smtp_username = 'your_username'\n",
    "    smtp_password = 'your_password'\n",
    "\n",
    "    # Формирование сообщения\n",
    "    msg = MIMEMultipart()\n",
    "    msg['From'] = smtp_username\n",
    "    msg['To'] = to_email\n",
    "    msg['Subject'] = subject\n",
    "    msg.attach(MIMEText(body, 'plain'))\n",
    "\n",
    "    # Подключение к SMTP серверу и отправка сообщения\n",
    "    try:\n",
    "        server = smtplib.SMTP(smtp_server, smtp_port)\n",
    "        server.starttls()\n",
    "        server.login(smtp_username, smtp_password)\n",
    "        server.send_message(msg)\n",
    "        server.quit()\n",
    "        print(\"Email sent successfully!\")\n",
    "    except Exception as e:\n",
    "        print(f\"Error: {e}\")\n",
    "\n",
    "def generate_daily_report():\n",
    "    # Здесь должна быть логика генерации ежедневного отчета\n",
    "    # Например, считывание данных из базы данных или файла\n",
    "    # В данном примере просто создается заглушка с текущим временем\n",
    "    now = datetime.datetime.now()\n",
    "    report_body = f\"Это ежедневный отчет за {now.strftime('%Y-%m-%d')}\"\n",
    "\n",
    "    return report_body\n",
    "\n",
    "def main():\n",
    "    # Получатель отчета\n",
    "    to_email = 'recipient@example.com'\n",
    "\n",
    "    # Заголовок письма\n",
    "    subject = 'Ежедневный отчет'\n",
    "\n",
    "    # Генерация ежедневного отчета\n",
    "    report_body = generate_daily_report()\n",
    "\n",
    "    # Отправка отчета по электронной почте\n",
    "    send_email(to_email, subject, report_body)\n",
    "\n",
    "if __name__ == \"__main__\":\n",
    "    main()\n"
   ]
  },
  {
   "cell_type": "code",
   "execution_count": null,
   "id": "0c403212-ddb8-4a64-b3e3-13fc6eced6f2",
   "metadata": {},
   "outputs": [],
   "source": []
  },
  {
   "cell_type": "code",
   "execution_count": null,
   "id": "dcd2b2f8-66e3-48bb-93c5-58defe5ea2fb",
   "metadata": {},
   "outputs": [],
   "source": []
  },
  {
   "cell_type": "code",
   "execution_count": null,
   "id": "a6830625-5939-4924-bba5-59c20b4ed33e",
   "metadata": {},
   "outputs": [],
   "source": []
  }
 ],
 "metadata": {
  "kernelspec": {
   "display_name": "Python 3 (ipykernel)",
   "language": "python",
   "name": "python3"
  },
  "language_info": {
   "codemirror_mode": {
    "name": "ipython",
    "version": 3
   },
   "file_extension": ".py",
   "mimetype": "text/x-python",
   "name": "python",
   "nbconvert_exporter": "python",
   "pygments_lexer": "ipython3",
   "version": "3.11.7"
  }
 },
 "nbformat": 4,
 "nbformat_minor": 5
}
